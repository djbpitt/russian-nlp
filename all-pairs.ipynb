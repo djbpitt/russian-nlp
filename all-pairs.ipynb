{
 "cells": [
  {
   "cell_type": "markdown",
   "id": "78dac56a",
   "metadata": {},
   "source": [
    "# all-pairs\n",
    "\n",
    "Given a list of strings as input, create a tuple that contains all pairs, maintaining list order"
   ]
  },
  {
   "cell_type": "code",
   "execution_count": 1,
   "id": "51b14b8b",
   "metadata": {},
   "outputs": [],
   "source": [
    "# Sample data\n",
    "data = ['curly', 'larry', 'shemp', 'moe'] # deliberatly not in alphabetic order"
   ]
  },
  {
   "cell_type": "code",
   "execution_count": 2,
   "id": "31e94bcf",
   "metadata": {},
   "outputs": [],
   "source": [
    "# Function to construct pairs\n",
    "def all_pairs(names):\n",
    "    \"\"\"Construct all pairs of list values\n",
    "    \n",
    "    Parameter: names (list of strings, does not need to be sorted)\n",
    "    \n",
    "    Returns: list of tuples, with names alphabetized within tuple\n",
    "    \"\"\"\n",
    "    names.sort() # sort in place\n",
    "    return [(names[i], names[j]) for i in range(len(names))\n",
    "        for j in range (i + 1, len(names))]"
   ]
  },
  {
   "cell_type": "code",
   "execution_count": 3,
   "id": "1d6e13f4",
   "metadata": {},
   "outputs": [
    {
     "data": {
      "text/plain": [
       "[('curly', 'larry'),\n",
       " ('curly', 'moe'),\n",
       " ('curly', 'shemp'),\n",
       " ('larry', 'moe'),\n",
       " ('larry', 'shemp'),\n",
       " ('moe', 'shemp')]"
      ]
     },
     "execution_count": 3,
     "metadata": {},
     "output_type": "execute_result"
    }
   ],
   "source": [
    "# Apply function to data\n",
    "all_pairs(data)"
   ]
  },
  {
   "cell_type": "code",
   "execution_count": null,
   "id": "a71f405c",
   "metadata": {},
   "outputs": [],
   "source": []
  }
 ],
 "metadata": {
  "kernelspec": {
   "display_name": "Python 3 (ipykernel)",
   "language": "python",
   "name": "python3"
  },
  "language_info": {
   "codemirror_mode": {
    "name": "ipython",
    "version": 3
   },
   "file_extension": ".py",
   "mimetype": "text/x-python",
   "name": "python",
   "nbconvert_exporter": "python",
   "pygments_lexer": "ipython3",
   "version": "3.9.9"
  }
 },
 "nbformat": 4,
 "nbformat_minor": 5
}
