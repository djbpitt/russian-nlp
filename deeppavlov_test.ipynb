{
  "nbformat": 4,
  "nbformat_minor": 0,
  "metadata": {
    "colab": {
      "name": "deeppavlov.ipynb",
      "provenance": [],
      "authorship_tag": "ABX9TyPzNcSXr7BmwDe95hzlWrhx",
      "include_colab_link": true
    },
    "kernelspec": {
      "name": "python3",
      "display_name": "Python 3"
    },
    "language_info": {
      "name": "python"
    }
  },
  "cells": [
    {
      "cell_type": "markdown",
      "metadata": {
        "id": "view-in-github",
        "colab_type": "text"
      },
      "source": [
        "<a href=\"https://colab.research.google.com/github/peterbussch/russian-nlp/blob/main/deeppavlov_test.ipynb\" target=\"_parent\"><img src=\"https://colab.research.google.com/assets/colab-badge.svg\" alt=\"Open In Colab\"/></a>"
      ]
    },
    {
      "cell_type": "code",
      "execution_count": null,
      "metadata": {
        "id": "5Ck-QI4RoqaT"
      },
      "outputs": [],
      "source": [
        "!pip install deeppavlov\n",
        "!python -m deeppavlov install gobot_dstc2_minimal"
      ]
    },
    {
      "cell_type": "code",
      "source": [
        "from deeppavlov.dataset_readers.dstc2_reader import SimpleDSTC2DatasetReader\n",
        "\n",
        "\n",
        "class AssistantDatasetReader(SimpleDSTC2DatasetReader):\n",
        "    \n",
        "    url = \"http://files.deeppavlov.ai/datasets/tutor_assistant_data.tar.gz\"\n",
        "    \n",
        "    @staticmethod\n",
        "    def _data_fname(datatype):\n",
        "        assert datatype in ('val', 'trn', 'tst'), \"wrong datatype name\"\n",
        "        return f\"assistant-{datatype}.json\""
      ],
      "metadata": {
        "id": "NKjBIcYvotkC"
      },
      "execution_count": 3,
      "outputs": []
    },
    {
      "cell_type": "code",
      "source": [
        "data = AssistantDatasetReader().read('assistant_data')"
      ],
      "metadata": {
        "colab": {
          "base_uri": "https://localhost:8080/"
        },
        "id": "9SUFbioYpovw",
        "outputId": "62ab5148-7f6d-4820-b763-38e64be93a5d"
      },
      "execution_count": 4,
      "outputs": [
        {
          "output_type": "stream",
          "name": "stderr",
          "text": [
            "2022-04-11 17:23:26.212 INFO in 'deeppavlov.dataset_readers.dstc2_reader'['dstc2_reader'] at line 269: [PosixPath('assistant_data/assistant-val.json'), PosixPath('assistant_data/assistant-tst.json')]]\n",
            "2022-04-11 17:23:26.214 INFO in 'deeppavlov.dataset_readers.dstc2_reader'['dstc2_reader'] at line 270: [downloading data from http://files.deeppavlov.ai/datasets/tutor_assistant_data.tar.gz to assistant_data]\n",
            "2022-04-11 17:23:26.216 INFO in 'deeppavlov.core.data.utils'['utils'] at line 95: Downloading from http://files.deeppavlov.ai/datasets/tutor_assistant_data.tar.gz to assistant_data/tutor_assistant_data.tar.gz\n",
            "/usr/local/lib/python3.7/dist-packages/cryptography/hazmat/backends/openssl/x509.py:17: CryptographyDeprecationWarning: This version of cryptography contains a temporary pyOpenSSL fallback path. Upgrade pyOpenSSL now.\n",
            "  utils.DeprecatedIn35,\n",
            "100%|██████████| 838/838 [00:00<00:00, 295kB/s]\n",
            "2022-04-11 17:23:26.895 INFO in 'deeppavlov.core.data.utils'['utils'] at line 272: Extracting assistant_data/tutor_assistant_data.tar.gz archive into assistant_data\n",
            "2022-04-11 17:23:26.904 INFO in 'deeppavlov.dataset_readers.dstc2_reader'['dstc2_reader'] at line 290: [loading dialogs from assistant_data/assistant-trn.json]\n",
            "2022-04-11 17:23:26.909 INFO in 'deeppavlov.dataset_readers.dstc2_reader'['dstc2_reader'] at line 290: [loading dialogs from assistant_data/assistant-val.json]\n",
            "2022-04-11 17:23:26.913 INFO in 'deeppavlov.dataset_readers.dstc2_reader'['dstc2_reader'] at line 290: [loading dialogs from assistant_data/assistant-tst.json]\n",
            "2022-04-11 17:23:26.918 INFO in 'deeppavlov.dataset_readers.dstc2_reader'['dstc2_reader'] at line 282: There are 24 samples in train split.\n",
            "2022-04-11 17:23:26.922 INFO in 'deeppavlov.dataset_readers.dstc2_reader'['dstc2_reader'] at line 283: There are 3 samples in valid split.\n",
            "2022-04-11 17:23:26.923 INFO in 'deeppavlov.dataset_readers.dstc2_reader'['dstc2_reader'] at line 284: There are 3 samples in test split.\n"
          ]
        }
      ]
    },
    {
      "cell_type": "code",
      "source": [
        "!ls assistant_data"
      ],
      "metadata": {
        "colab": {
          "base_uri": "https://localhost:8080/"
        },
        "id": "3R95MRe3ptYN",
        "outputId": "da96d5dd-f676-4b1d-c9cf-99c7fe48dd33"
      },
      "execution_count": 5,
      "outputs": [
        {
          "output_type": "stream",
          "name": "stdout",
          "text": [
            "assistant-templates.txt  assistant-tst.json\n",
            "assistant-trn.json\t assistant-val.json\n"
          ]
        }
      ]
    },
    {
      "cell_type": "code",
      "source": [
        "!head -n 310 assistant_data/assistant-trn.json"
      ],
      "metadata": {
        "colab": {
          "base_uri": "https://localhost:8080/"
        },
        "id": "Ie-D3x9gpxuQ",
        "outputId": "3f72f859-48a4-494e-9164-a25dcd1438c9"
      },
      "execution_count": 6,
      "outputs": [
        {
          "output_type": "stream",
          "name": "stdout",
          "text": [
            "[\n",
            "  [\n",
            "    {\n",
            "      \"speaker\": 1,\n",
            "      \"text\": \"hi\"\n",
            "    },\n",
            "    {\n",
            "      \"speaker\": 2,\n",
            "      \"text\": \"Hello, what is the weather today?\",\n",
            "      \"act\": \"welcome_msg\"\n",
            "    },\n",
            "    {\n",
            "      \"speaker\": 1,\n",
            "      \"text\": \"Quite sunny outside\"\n",
            "    },\n",
            "    {\n",
            "      \"speaker\": 2,\n",
            "      \"text\": \"Then you should cycle!\",\n",
            "      \"act\": \"suggest_cycling\"\n",
            "    },\n",
            "    {\n",
            "      \"speaker\": 1,\n",
            "      \"text\": \"Thanks! Great idea\"\n",
            "    },\n",
            "    {\n",
            "      \"speaker\": 2,\n",
            "      \"text\": \"You are welcome! Bye!\",\n",
            "      \"act\": \"good_bye\"\n",
            "    }\n",
            "  ],\n",
            "  [\n",
            "    {\n",
            "      \"speaker\": 1,\n",
            "      \"text\": \"hey, bot\"\n",
            "    },\n",
            "    {\n",
            "      \"speaker\": 2,\n",
            "      \"text\": \"Hello, what is the weather today?\",\n",
            "      \"act\": \"welcome_msg\"\n",
            "    },\n",
            "    {\n",
            "      \"speaker\": 1,\n",
            "      \"text\": \"raining a lot\"\n",
            "    },\n",
            "    {\n",
            "      \"speaker\": 2,\n",
            "      \"text\": \"Then you should try hot chinese tea!\",\n",
            "      \"act\": \"suggest_tea\"\n",
            "    },\n",
            "    {\n",
            "      \"speaker\": 1,\n",
            "      \"text\": \"nice. thank you\"\n",
            "    },\n",
            "    {\n",
            "      \"speaker\": 2,\n",
            "      \"text\": \"You are welcome! Bye!\",\n",
            "      \"act\": \"good_bye\"\n",
            "    }\n",
            "  ],\n",
            "  [\n",
            "    {\n",
            "      \"speaker\": 1,\n",
            "      \"text\": \"good morning you!\"\n",
            "    },\n",
            "    {\n",
            "      \"speaker\": 2,\n",
            "      \"text\": \"Hello, what is the weather today?\",\n",
            "      \"act\": \"welcome_msg\"\n",
            "    },\n",
            "    {\n",
            "      \"speaker\": 1,\n",
            "      \"text\": \"hot and a little bit cloudy i guess\"\n",
            "    },\n",
            "    {\n",
            "      \"speaker\": 2,\n",
            "      \"text\": \"Then you should cycle!\",\n",
            "      \"act\": \"suggest_cycling\"\n",
            "    },\n",
            "    {\n",
            "      \"speaker\": 1,\n",
            "      \"text\": \"no, i dont have a bike\"\n",
            "    },\n",
            "    {\n",
            "      \"speaker\": 2,\n",
            "      \"text\": \"That's a pity! Next time maybe. Have a good day!\",\n",
            "      \"act\": \"bad_bye\"\n",
            "    }\n",
            "  ],\n",
            "  [\n",
            "    {\n",
            "      \"speaker\": 1,\n",
            "      \"text\": \"hello beautiful!\"\n",
            "    },\n",
            "    {\n",
            "      \"speaker\": 2,\n",
            "      \"text\": \"Hello, what is the weather today?\",\n",
            "      \"act\": \"welcome_msg\"\n",
            "    },\n",
            "    {\n",
            "      \"speaker\": 1,\n",
            "      \"text\": \"too much snow, dont want to go out\"\n",
            "    },\n",
            "    {\n",
            "      \"speaker\": 2,\n",
            "      \"text\": \"Then you should try hot chinese tea!\",\n",
            "      \"act\": \"suggest_tea\"\n",
            "    },\n",
            "    {\n",
            "      \"speaker\": 1,\n",
            "      \"text\": \"no i am not into tea\"\n",
            "    },\n",
            "    {\n",
            "      \"speaker\": 2,\n",
            "      \"text\": \"That's a pity! Next time maybe. Have a good day!\",\n",
            "      \"act\": \"bad_bye\"\n",
            "    }\n",
            "  ],\n",
            "  [\n",
            "    {\n",
            "      \"speaker\": 1,\n",
            "      \"text\": \"good evening\"\n",
            "    },\n",
            "    {\n",
            "      \"speaker\": 2,\n",
            "      \"text\": \"Hello, what is the weather today?\",\n",
            "      \"act\": \"welcome_msg\"\n",
            "    },\n",
            "    {\n",
            "      \"speaker\": 1,\n",
            "      \"text\": \"mainly cloudy and gray\"\n",
            "    },\n",
            "    {\n",
            "      \"speaker\": 2,\n",
            "      \"text\": \"Then you should try hot chinese tea!\",\n",
            "      \"act\": \"suggest_tea\"\n",
            "    },\n",
            "    {\n",
            "      \"speaker\": 1,\n",
            "      \"text\": \"that sounds good\"\n",
            "    },\n",
            "    {\n",
            "      \"speaker\": 2,\n",
            "      \"text\": \"You are welcome! Bye!\",\n",
            "      \"act\": \"good_bye\"\n",
            "    }\n",
            "  ],\n",
            "  [\n",
            "    {\n",
            "      \"speaker\": 1,\n",
            "      \"text\": \"hey\"\n",
            "    },\n",
            "    {\n",
            "      \"speaker\": 2,\n",
            "      \"text\": \"Hello, what is the weather today?\",\n",
            "      \"act\": \"welcome_msg\"\n",
            "    },\n",
            "    {\n",
            "      \"speaker\": 1,\n",
            "      \"text\": \"very dark and murky\"\n",
            "    },\n",
            "    {\n",
            "      \"speaker\": 2,\n",
            "      \"text\": \"Then you should try hot chinese tea!\",\n",
            "      \"act\": \"suggest_tea\"\n",
            "    },\n",
            "    {\n",
            "      \"speaker\": 1,\n",
            "      \"text\": \"tea is not funny\"\n",
            "    },\n",
            "    {\n",
            "      \"speaker\": 2,\n",
            "      \"text\": \"That's a pity! Next time maybe. Have a good day!\",\n",
            "      \"act\": \"bad_bye\"\n",
            "    }\n",
            "  ],\n",
            "  [\n",
            "    {\n",
            "      \"speaker\": 1,\n",
            "      \"text\": \"how you doing\"\n",
            "    },\n",
            "    {\n",
            "      \"speaker\": 2,\n",
            "      \"text\": \"Hello, what is the weather today?\",\n",
            "      \"act\": \"welcome_msg\"\n",
            "    },\n",
            "    {\n",
            "      \"speaker\": 1,\n",
            "      \"text\": \"the weather is gorgeous!\"\n",
            "    },\n",
            "    {\n",
            "      \"speaker\": 2,\n",
            "      \"text\": \"Then you should cycle!\",\n",
            "      \"act\": \"suggest_cycling\"\n",
            "    },\n",
            "    {\n",
            "      \"speaker\": 1,\n",
            "      \"text\": \"maybe you are right, i'll try that\"\n",
            "    },\n",
            "    {\n",
            "      \"speaker\": 2,\n",
            "      \"text\": \"You are welcome! Bye!\",\n",
            "      \"act\": \"good_bye\"\n",
            "    }\n",
            "  ],\n",
            "  [\n",
            "    {\n",
            "      \"speaker\": 1,\n",
            "      \"text\": \"hii\"\n",
            "    },\n",
            "    {\n",
            "      \"speaker\": 2,\n",
            "      \"text\": \"Hello, what is the weather today?\",\n",
            "      \"act\": \"welcome_msg\"\n",
            "    },\n",
            "    {\n",
            "      \"speaker\": 1,\n",
            "      \"text\": \"nice weather really\"\n",
            "    },\n",
            "    {\n",
            "      \"speaker\": 2,\n",
            "      \"text\": \"Then you should cycle!\",\n",
            "      \"act\": \"suggest_cycling\"\n",
            "    },\n",
            "    {\n",
            "      \"speaker\": 1,\n",
            "      \"text\": \"i dont wanna do such stuff\"\n",
            "    },\n",
            "    {\n",
            "      \"speaker\": 2,\n",
            "      \"text\": \"That's a pity! Next time maybe. Have a good day!\",\n",
            "      \"act\": \"bad_bye\"\n",
            "    }\n",
            "  ]\n",
            "]\n"
          ]
        }
      ]
    },
    {
      "cell_type": "code",
      "source": [
        "from deeppavlov.dataset_iterators.dialog_iterator import DialogDatasetIterator\n",
        "\n",
        "iterator = DialogDatasetIterator(data)"
      ],
      "metadata": {
        "id": "iwwp0djrp0rM"
      },
      "execution_count": 7,
      "outputs": []
    },
    {
      "cell_type": "code",
      "source": [
        "from pprint import pprint\n",
        "\n",
        "for dialog in iterator.gen_batches(batch_size=1, data_type='train'):\n",
        "    turns_x, turns_y = dialog\n",
        "    \n",
        "    print(\"User utterances:\\n----------------\\n\")\n",
        "    pprint(turns_x[0], indent=4)\n",
        "    print(\"\\nSystem responses:\\n-----------------\\n\")\n",
        "    pprint(turns_y[0], indent=4)\n",
        "    \n",
        "    break\n",
        "\n",
        "print(\"\\n-----------------\")    \n",
        "print(f\"{len(iterator.get_instances('train')[0])} dialog(s) in train.\")\n",
        "print(f\"{len(iterator.get_instances('valid')[0])} dialog(s) in valid.\")\n",
        "print(f\"{len(iterator.get_instances('test')[0])} dialog(s) in test.\")"
      ],
      "metadata": {
        "colab": {
          "base_uri": "https://localhost:8080/"
        },
        "id": "eYzmQXvrp8Bz",
        "outputId": "ed6eeafc-dfba-4df2-f031-750d020c2184"
      },
      "execution_count": 8,
      "outputs": [
        {
          "output_type": "stream",
          "name": "stdout",
          "text": [
            "User utterances:\n",
            "----------------\n",
            "\n",
            "[   {'prev_resp_act': None, 'text': 'good evening'},\n",
            "    {'prev_resp_act': 'welcome_msg', 'text': 'mainly cloudy and gray'},\n",
            "    {'prev_resp_act': 'suggest_tea', 'text': 'that sounds good'}]\n",
            "\n",
            "System responses:\n",
            "-----------------\n",
            "\n",
            "[   {'act': 'welcome_msg', 'text': 'Hello, what is the weather today?'},\n",
            "    {'act': 'suggest_tea', 'text': 'Then you should try hot chinese tea!'},\n",
            "    {'act': 'good_bye', 'text': 'You are welcome! Bye!'}]\n",
            "\n",
            "-----------------\n",
            "8 dialog(s) in train.\n",
            "1 dialog(s) in valid.\n",
            "1 dialog(s) in test.\n"
          ]
        }
      ]
    },
    {
      "cell_type": "code",
      "source": [
        "!head -n 31 assistant_data/assistant-trn.json"
      ],
      "metadata": {
        "colab": {
          "base_uri": "https://localhost:8080/"
        },
        "id": "wcCWlbQCqBMn",
        "outputId": "4f91b3e6-28ed-40d1-e33a-299ce2146e50"
      },
      "execution_count": 9,
      "outputs": [
        {
          "output_type": "stream",
          "name": "stdout",
          "text": [
            "[\n",
            "  [\n",
            "    {\n",
            "      \"speaker\": 1,\n",
            "      \"text\": \"hi\"\n",
            "    },\n",
            "    {\n",
            "      \"speaker\": 2,\n",
            "      \"text\": \"Hello, what is the weather today?\",\n",
            "      \"act\": \"welcome_msg\"\n",
            "    },\n",
            "    {\n",
            "      \"speaker\": 1,\n",
            "      \"text\": \"Quite sunny outside\"\n",
            "    },\n",
            "    {\n",
            "      \"speaker\": 2,\n",
            "      \"text\": \"Then you should cycle!\",\n",
            "      \"act\": \"suggest_cycling\"\n",
            "    },\n",
            "    {\n",
            "      \"speaker\": 1,\n",
            "      \"text\": \"Thanks! Great idea\"\n",
            "    },\n",
            "    {\n",
            "      \"speaker\": 2,\n",
            "      \"text\": \"You are welcome! Bye!\",\n",
            "      \"act\": \"good_bye\"\n",
            "    }\n",
            "  ],\n",
            "  [\n"
          ]
        }
      ]
    },
    {
      "cell_type": "code",
      "source": [
        "from deeppavlov import configs\n",
        "from deeppavlov.core.common.file import read_json\n",
        "\n",
        "gobot_config = read_json(configs.go_bot.gobot_dstc2_minimal)"
      ],
      "metadata": {
        "id": "m5KCfJx2qSJt"
      },
      "execution_count": 10,
      "outputs": []
    },
    {
      "cell_type": "code",
      "source": [
        "from deeppavlov.download import download_resource\n",
        "\n",
        "download_resource(url=\"http://files.deeppavlov.ai/embeddings/glove.6B.100d.txt\",\n",
        "                  dest_paths=['assistant_bot/'])"
      ],
      "metadata": {
        "colab": {
          "base_uri": "https://localhost:8080/"
        },
        "id": "nq1hRBcfqaMi",
        "outputId": "2b0bc41d-b5c6-49f8-9d8a-cef75e88b574"
      },
      "execution_count": 11,
      "outputs": [
        {
          "output_type": "stream",
          "name": "stderr",
          "text": [
            "/usr/local/lib/python3.7/dist-packages/cryptography/hazmat/backends/openssl/x509.py:17: CryptographyDeprecationWarning: This version of cryptography contains a temporary pyOpenSSL fallback path. Upgrade pyOpenSSL now.\n",
            "  utils.DeprecatedIn35,\n",
            "2022-04-11 17:26:39.218 INFO in 'deeppavlov.core.data.utils'['utils'] at line 95: Downloading from http://files.deeppavlov.ai/embeddings/glove.6B.100d.txt to assistant_bot/glove.6B.100d.txt\n",
            "347MB [00:06, 55.9MB/s]\n"
          ]
        }
      ]
    },
    {
      "cell_type": "code",
      "source": [
        "gobot_config['chainer']['pipe'][-1]['embedder'] = {\n",
        "    \"class_name\": \"glove\",\n",
        "    \"load_path\": \"assistant_bot/glove.6B.100d.txt\"\n",
        "}"
      ],
      "metadata": {
        "id": "1DkAtUJbqcXI"
      },
      "execution_count": 12,
      "outputs": []
    },
    {
      "cell_type": "code",
      "source": [
        "gobot_config['chainer']['pipe'][-1]['nlg_manager']['template_path'] = 'assistant_data/assistant-templates.txt'\n",
        "gobot_config['chainer']['pipe'][-1]['nlg_manager']['api_call_action'] = None"
      ],
      "metadata": {
        "id": "N1gUWd-wqfwc"
      },
      "execution_count": 13,
      "outputs": []
    },
    {
      "cell_type": "code",
      "source": [
        "gobot_config['dataset_reader']['class_name'] = '__main__:AssistantDatasetReader'\n",
        "gobot_config['metadata']['variables']['DATA_PATH'] = 'assistant_data'\n",
        "\n",
        "gobot_config['metadata']['variables']['MODEL_PATH'] = 'assistant_bot'"
      ],
      "metadata": {
        "id": "4HR5zcpkqikp"
      },
      "execution_count": 14,
      "outputs": []
    },
    {
      "cell_type": "code",
      "source": [
        "from deeppavlov import train_model\n",
        "\n",
        "gobot_config['train']['batch_size'] = 4 # set batch size\n",
        "gobot_config['train']['max_batches'] = 30 # maximum number of training batches\n",
        "gobot_config['train']['val_every_n_batches'] = 30 # evaluate on full 'valid' split every 30 epochs\n",
        "gobot_config['train']['log_every_n_batches'] = 5 # evaluate on full 'train' split every 5 batches\n",
        "\n",
        "train_model(gobot_config);"
      ],
      "metadata": {
        "id": "h_tmcIiZqmHS"
      },
      "execution_count": null,
      "outputs": []
    },
    {
      "cell_type": "code",
      "source": [
        "from deeppavlov import build_model\n",
        "\n",
        "bot = build_model(gobot_config)"
      ],
      "metadata": {
        "colab": {
          "base_uri": "https://localhost:8080/"
        },
        "id": "WXy0leL9qp3c",
        "outputId": "39a3c045-04b8-4bc9-ae4e-56b22f4eb1d8"
      },
      "execution_count": 16,
      "outputs": [
        {
          "output_type": "stream",
          "name": "stderr",
          "text": [
            "2022-04-11 17:30:37.514 INFO in 'deeppavlov.core.data.simple_vocab'['simple_vocab'] at line 115: [loading vocabulary from /content/assistant_bot/word.dict]\n",
            "2022-04-11 17:30:37.519 INFO in 'deeppavlov.models.embedders.glove_embedder'['glove_embedder'] at line 52: [loading GloVe embeddings from `/content/assistant_bot/glove.6B.100d.txt`]\n",
            "2022-04-11 17:31:25.100 INFO in 'deeppavlov.models.go_bot.policy.policy_network'['policy_network'] at line 86: INSIDE PolicyNetwork init(). Initializing PolicyNetwork from checkpoint.\n",
            "2022-04-11 17:31:25.105 INFO in 'deeppavlov.core.models.tf_model'['tf_model'] at line 51: [loading model from /content/assistant_bot/model/policy]\n"
          ]
        },
        {
          "output_type": "stream",
          "name": "stdout",
          "text": [
            "INFO:tensorflow:Restoring parameters from /content/assistant_bot/model/policy\n"
          ]
        }
      ]
    },
    {
      "cell_type": "code",
      "source": [
        "bot([[{\"text\": \"good evening, bot\"}]])"
      ],
      "metadata": {
        "colab": {
          "base_uri": "https://localhost:8080/"
        },
        "id": "bd4TG69rrWrN",
        "outputId": "bc5ebc17-d9f3-4c3b-9763-fcdf112230de"
      },
      "execution_count": 17,
      "outputs": [
        {
          "output_type": "execute_result",
          "data": {
            "text/plain": [
              "[['Hello, what is the weather today?']]"
            ]
          },
          "metadata": {},
          "execution_count": 17
        }
      ]
    },
    {
      "cell_type": "code",
      "source": [
        "bot([[{\"text\": \"the weather is pretty good. how is your weather?\"}]])"
      ],
      "metadata": {
        "colab": {
          "base_uri": "https://localhost:8080/"
        },
        "id": "85Mnw_T0r8KB",
        "outputId": "368261ab-ec61-4e49-efb4-334d92a26d28"
      },
      "execution_count": 18,
      "outputs": [
        {
          "output_type": "execute_result",
          "data": {
            "text/plain": [
              "[['Then you should cycle!']]"
            ]
          },
          "metadata": {},
          "execution_count": 18
        }
      ]
    },
    {
      "cell_type": "code",
      "source": [
        "bot([[{\"text\": \"can I borrow your bicycle?\"}]])"
      ],
      "metadata": {
        "colab": {
          "base_uri": "https://localhost:8080/"
        },
        "id": "EHy6vLVCsL38",
        "outputId": "ae7f4875-394f-4aad-c302-8b7e0324febe"
      },
      "execution_count": 19,
      "outputs": [
        {
          "output_type": "execute_result",
          "data": {
            "text/plain": [
              "[['Hello, what is the weather today?']]"
            ]
          },
          "metadata": {},
          "execution_count": 19
        }
      ]
    },
    {
      "cell_type": "code",
      "source": [
        "bot([[{\"text\": \"howdy\"}]])"
      ],
      "metadata": {
        "colab": {
          "base_uri": "https://localhost:8080/"
        },
        "id": "pya5jZ-vsvWg",
        "outputId": "8ef974e5-7f1f-4b81-f53c-b3da0d234c62"
      },
      "execution_count": 20,
      "outputs": [
        {
          "output_type": "execute_result",
          "data": {
            "text/plain": [
              "[['Hello, what is the weather today?']]"
            ]
          },
          "metadata": {},
          "execution_count": 20
        }
      ]
    },
    {
      "cell_type": "code",
      "source": [
        "bot([[{\"text\": \"the weather is poor\"}]])"
      ],
      "metadata": {
        "colab": {
          "base_uri": "https://localhost:8080/"
        },
        "id": "vl_0jO1ws27c",
        "outputId": "134987e9-df69-40d8-c315-66ae34239e68"
      },
      "execution_count": 21,
      "outputs": [
        {
          "output_type": "execute_result",
          "data": {
            "text/plain": [
              "[['Then you should cycle!']]"
            ]
          },
          "metadata": {},
          "execution_count": 21
        }
      ]
    },
    {
      "cell_type": "code",
      "source": [
        "bot([[{\"text\": \"i disagree\"}]])"
      ],
      "metadata": {
        "colab": {
          "base_uri": "https://localhost:8080/"
        },
        "id": "knw1ogEsuoBj",
        "outputId": "8f4458e8-9375-4390-c09d-4c1ba433be06"
      },
      "execution_count": 22,
      "outputs": [
        {
          "output_type": "execute_result",
          "data": {
            "text/plain": [
              "[['Hello, what is the weather today?']]"
            ]
          },
          "metadata": {},
          "execution_count": 22
        }
      ]
    },
    {
      "cell_type": "code",
      "source": [
        "bot([[{\"text\": \"good evening, bot\"}]])"
      ],
      "metadata": {
        "id": "HpP8QaF-uqYq"
      },
      "execution_count": null,
      "outputs": []
    }
  ]
}