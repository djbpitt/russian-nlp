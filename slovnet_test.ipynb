{
 "cells": [
  {
   "cell_type": "code",
   "execution_count": 1,
   "id": "c99144db",
   "metadata": {},
   "outputs": [
    {
     "name": "stdout",
     "output_type": "stream",
     "text": [
      "Requirement already satisfied: natasha in c:\\python37\\lib\\site-packages (1.4.0)\n",
      "Requirement already satisfied: slovnet>=0.3.0 in c:\\python37\\lib\\site-packages (from natasha) (0.5.0)\n",
      "Requirement already satisfied: razdel>=0.5.0 in c:\\python37\\lib\\site-packages (from natasha) (0.5.0)\n",
      "Requirement already satisfied: pymorphy2 in c:\\python37\\lib\\site-packages (from natasha) (0.8)\n",
      "Requirement already satisfied: ipymarkup>=0.8.0 in c:\\python37\\lib\\site-packages (from natasha) (0.9.0)\n",
      "Requirement already satisfied: yargy>=0.14.0 in c:\\python37\\lib\\site-packages (from natasha) (0.15.0)\n",
      "Requirement already satisfied: navec>=0.9.0 in c:\\python37\\lib\\site-packages (from natasha) (0.10.0)\n",
      "Requirement already satisfied: intervaltree>=3 in c:\\python37\\lib\\site-packages (from ipymarkup>=0.8.0->natasha) (3.1.0)\n",
      "Requirement already satisfied: numpy in c:\\python37\\lib\\site-packages (from navec>=0.9.0->natasha) (1.16.4)\n",
      "Requirement already satisfied: dawg-python>=0.7 in c:\\python37\\lib\\site-packages (from pymorphy2->natasha) (0.7.2)\n",
      "Requirement already satisfied: pymorphy2-dicts<3.0,>=2.4 in c:\\python37\\lib\\site-packages (from pymorphy2->natasha) (2.4.393442.3710985)\n",
      "Requirement already satisfied: docopt>=0.6 in c:\\python37\\lib\\site-packages (from pymorphy2->natasha) (0.6.2)\n",
      "Requirement already satisfied: sortedcontainers<3.0,>=2.0 in c:\\python37\\lib\\site-packages (from intervaltree>=3->ipymarkup>=0.8.0->natasha) (2.1.0)\n",
      "Requirement already satisfied: natsort in c:\\python37\\lib\\site-packages (8.1.0)\n",
      "Requirement already satisfied: navec in c:\\python37\\lib\\site-packages (0.10.0)\n",
      "Requirement already satisfied: numpy in c:\\python37\\lib\\site-packages (from navec) (1.16.4)\n"
     ]
    }
   ],
   "source": [
    "#Razdel — сегментация текста на предложения и токены;\n",
    "#Navec — качественный компактные эмбеддинги;\n",
    "#Slovnet — современные компактные модели для морфологии, синтаксиса, NER;\n",
    "#Yargy — правила и словари для извлечения структурированной информации;\n",
    "#Ipymarkup — визуализация NER и синтаксической разметки;\n",
    "!pip install natasha\n",
    "!pip install natsort\n",
    "!pip install navec\n",
    "\n",
    "import os\n",
    "import sys\n",
    "import pickle\n",
    "import re\n",
    "from natsort import natsorted\n",
    "\n",
    "import ipymarkup\n",
    "from natasha import (\n",
    "    Segmenter,\n",
    "    MorphVocab,   \n",
    "    NewsEmbedding,\n",
    "    NewsMorphTagger,\n",
    "    NewsSyntaxParser,\n",
    "    NewsNERTagger, \n",
    "    PER,\n",
    "    NamesExtractor,\n",
    "    Doc\n",
    ")\n",
    "\n",
    "segmenter = Segmenter()\n",
    "morph_vocab = MorphVocab()\n",
    "emb = NewsEmbedding()\n",
    "morph_tagger = NewsMorphTagger(emb)\n",
    "syntax_parser = NewsSyntaxParser(emb)\n",
    "ner_tagger = NewsNERTagger(emb)\n",
    "names_extractor = NamesExtractor(morph_vocab)"
   ]
  },
  {
   "cell_type": "code",
   "execution_count": 2,
   "id": "a3274394",
   "metadata": {},
   "outputs": [],
   "source": [
    "def get_filepaths(d):\n",
    "    # List which will store all of the full filepaths.\n",
    "    locations = []\n",
    "    # os.walk to get tree info\n",
    "    for root, directories, files in os.walk(d):\n",
    "        for filename in files:\n",
    "            if filename.endswith(\".pkl\") and filename.startswith('ch'):\n",
    "            # join the strings to form filepath\n",
    "                filepath = os.path.join(root, filename)\n",
    "                locations.append(filepath)\n",
    "    # uses natsort to return human-intelligible ordering\n",
    "    return natsorted(locations)\n",
    "\n",
    "# store function results in a variable.   \n",
    "sorted_filepaths = get_filepaths(r'C:\\Users\\emmak\\dsam\\bulgakov')\n",
    "# print(sorted_filepaths)"
   ]
  },
  {
   "cell_type": "code",
   "execution_count": 3,
   "id": "609e24f4",
   "metadata": {
    "tags": []
   },
   "outputs": [],
   "source": [
    "from ipymarkup.span import Span\n",
    "from ipymarkup.dep import Dep\n",
    "from ipymarkup.demo import show_table\n",
    "\n",
    "from ipymarkup import (\n",
    "    show_span_box_markup,\n",
    "    show_span_ascii_markup,\n",
    "    show_dep_markup\n",
    ")\n",
    "from ipymarkup.palette import palette, BLUE, ORANGE, PURPLE, Rgb, Color, MaterialRgb\n",
    "\n",
    "\n",
    "wholebook = []\n",
    "# for every filepath in list of filepaths\n",
    "for f in sorted_filepaths:\n",
    "    # open filepath as a string\n",
    "    with open(str(f), 'rb') as f:\n",
    "        data = pickle.load(f)\n",
    "        # joins the list from the pickle file\n",
    "        ch = ' '.join(data)\n",
    "        # appends list with joined chapter text\n",
    "        wholebook.append(ch)\n",
    "        f.close()\n",
    "\n",
    "wholebook = ' '.join(wholebook)\n",
    "doc = Doc(wholebook)\n",
    "# divides doc into tokens and sents, given start and stop properties\n",
    "doc.segment(segmenter)\n",
    "# every token is morphologically tagged, given pos and feats properties\n",
    "doc.tag_morph(morph_tagger)\n",
    "# named entity recognition\n",
    "doc.tag_ner(ner_tagger)\n",
    "# extract names from PER span type\n",
    "for span in doc.spans:\n",
    "    # print(span.stop)\n",
    "    # print(span.type)\n",
    "    if span.type == PER:\n",
    "        span.normalize(morph_vocab)\n",
    "        span.extract_fact(names_extractor)\n",
    "\n",
    "# print(wholebook)\n",
    "# for f in wholebook:\n",
    "#     doc = Doc(f)\n",
    "#     # divides doc into tokens and sents, given start and stop properties\n",
    "#     doc.segment(segmenter)\n",
    "#     # every token is morphologically tagged, given pos and feats properties\n",
    "#     doc.tag_morph(morph_tagger)\n",
    "#     # named entity recognition\n",
    "#     doc.tag_ner(ner_tagger)\n",
    "#     extract names from PER span type\n",
    "#     for span in doc.spans:\n",
    "#         print(span.stop)\n",
    "#         print(span.type)\n",
    "#         if span.type == PER:\n",
    "#             span.normalize(morph_vocab)\n",
    "#             span.extract_fact(names_extractor)\n",
    "    \n",
    "    #doc.sents[0].morph.print()\n",
    "    # print(doc.tokens[0])\n",
    "    # #doc.sents.ner.print()\n",
    "    # #print(doc.sents[0])\n",
    "    # print(doc.spans[0])\n",
    "    # print(\"\\n\")\n"
   ]
  },
  {
   "cell_type": "code",
   "execution_count": 4,
   "id": "69f99d2c-2e00-4329-9ddd-1b9ed43088a0",
   "metadata": {},
   "outputs": [
    {
     "data": {
      "text/plain": [
       "['BLUE',\n",
       " 'BROWN',\n",
       " 'Color',\n",
       " 'GREEN',\n",
       " 'GREY',\n",
       " 'MaterialRgb',\n",
       " 'ORANGE',\n",
       " 'PALETTE',\n",
       " 'PURPLE',\n",
       " 'Palette',\n",
       " 'RED',\n",
       " 'Record',\n",
       " 'Rgb',\n",
       " '__builtins__',\n",
       " '__cached__',\n",
       " '__doc__',\n",
       " '__file__',\n",
       " '__loader__',\n",
       " '__name__',\n",
       " '__package__',\n",
       " '__spec__',\n",
       " 'material',\n",
       " 'palette',\n",
       " 'prepare_color',\n",
       " 're']"
      ]
     },
     "execution_count": 4,
     "metadata": {},
     "output_type": "execute_result"
    }
   ],
   "source": [
    "dir(ipymarkup.palette)"
   ]
  },
  {
   "cell_type": "code",
   "execution_count": 5,
   "id": "e2597ce1-8b31-415f-af76-dadcd47eedcb",
   "metadata": {},
   "outputs": [
    {
     "ename": "NameError",
     "evalue": "name 'material' is not defined",
     "output_type": "error",
     "traceback": [
      "\u001b[1;31m---------------------------------------------------------------------------\u001b[0m",
      "\u001b[1;31mNameError\u001b[0m                                 Traceback (most recent call last)",
      "\u001b[1;32m~\\AppData\\Local\\Temp\\ipykernel_16656\\2167484918.py\u001b[0m in \u001b[0;36m<module>\u001b[1;34m\u001b[0m\n\u001b[0;32m      1\u001b[0m TEAL = Color(\n\u001b[0;32m      2\u001b[0m     \u001b[1;34m'Teal'\u001b[0m\u001b[1;33m,\u001b[0m\u001b[1;33m\u001b[0m\u001b[0m\n\u001b[1;32m----> 3\u001b[1;33m     \u001b[0mbackground\u001b[0m\u001b[1;33m=\u001b[0m\u001b[0mmaterial\u001b[0m\u001b[1;33m(\u001b[0m\u001b[1;34m'Teal'\u001b[0m\u001b[1;33m,\u001b[0m \u001b[1;34m'50'\u001b[0m\u001b[1;33m)\u001b[0m\u001b[1;33m,\u001b[0m\u001b[1;33m\u001b[0m\u001b[0m\n\u001b[0m\u001b[0;32m      4\u001b[0m     \u001b[0mborder\u001b[0m\u001b[1;33m=\u001b[0m\u001b[0mmaterial\u001b[0m\u001b[1;33m(\u001b[0m\u001b[1;34m'Teal'\u001b[0m\u001b[1;33m,\u001b[0m \u001b[1;34m'100'\u001b[0m\u001b[1;33m)\u001b[0m\u001b[1;33m,\u001b[0m\u001b[1;33m\u001b[0m\u001b[0m\n\u001b[0;32m      5\u001b[0m     \u001b[0mtext\u001b[0m\u001b[1;33m=\u001b[0m\u001b[0mmaterial\u001b[0m\u001b[1;33m(\u001b[0m\u001b[1;34m'Teal'\u001b[0m\u001b[1;33m,\u001b[0m \u001b[1;34m'300'\u001b[0m\u001b[1;33m)\u001b[0m\u001b[1;33m,\u001b[0m\u001b[1;33m\u001b[0m\u001b[0m\n",
      "\u001b[1;31mNameError\u001b[0m: name 'material' is not defined"
     ]
    }
   ],
   "source": [
    "TEAL = Color(\n",
    "    'Teal',\n",
    "    background=material('Teal', '50'),\n",
    "    border=material('Teal', '100'),\n",
    "    text=material('Teal', '300'),\n",
    "    line=material('Teal', '200')\n",
    ")"
   ]
  },
  {
   "cell_type": "code",
   "execution_count": 8,
   "id": "9485feb1",
   "metadata": {},
   "outputs": [],
   "source": [
    "#Produces ipymarkup of the text, focusing only on spans under the PER category \n",
    "def getMarkup(doc):\n",
    "    text  = doc.text\n",
    "    # print(text)\n",
    "    spans = []\n",
    "    # types = {type for type in doc.spans}\n",
    "    # print(doc.spans)\n",
    "    for i, span in enumerate(doc.spans):\n",
    "        span.normalize(morph_vocab)\n",
    "        span.extract_fact(names_extractor)\n",
    "        spans.append((span.start,span.stop,span.type))\n",
    "    \n",
    "    # print(spans)\n",
    "    \n",
    "    show_span_box_markup(text, spans, palette=palette({'PER':'blue','LOC':'purple', 'ORG':'#e0f2f1'}))\n",
    " \n",
    "            \n",
    "        # print(span.stop)\n",
    "        # print(span.type)\n",
    "    \n",
    "    # if span.type == PER:\n",
    "        #     span.normalize(morph_vocab)\n",
    "        #     span.extract_fact(names_extractor)\n",
    "    "
   ]
  },
  {
   "cell_type": "code",
   "execution_count": 9,
   "id": "56d904ac",
   "metadata": {
    "tags": []
   },
   "outputs": [
    {
     "ename": "KeyError",
     "evalue": "'#e0f2f1'",
     "output_type": "error",
     "traceback": [
      "\u001b[1;31m---------------------------------------------------------------------------\u001b[0m",
      "\u001b[1;31mKeyError\u001b[0m                                  Traceback (most recent call last)",
      "\u001b[1;32m~\\AppData\\Local\\Temp\\ipykernel_16656\\3856475058.py\u001b[0m in \u001b[0;36m<module>\u001b[1;34m\u001b[0m\n\u001b[1;32m----> 1\u001b[1;33m \u001b[0mgetMarkup\u001b[0m\u001b[1;33m(\u001b[0m\u001b[0mdoc\u001b[0m\u001b[1;33m)\u001b[0m\u001b[1;33m\u001b[0m\u001b[0m\n\u001b[0m\u001b[0;32m      2\u001b[0m \u001b[1;31m# print(doc.spans[0])\u001b[0m\u001b[1;33m\u001b[0m\u001b[1;33m\u001b[0m\u001b[0m\n",
      "\u001b[1;32m~\\AppData\\Local\\Temp\\ipykernel_16656\\2039187395.py\u001b[0m in \u001b[0;36mgetMarkup\u001b[1;34m(doc)\u001b[0m\n\u001b[0;32m     13\u001b[0m     \u001b[1;31m# print(spans)\u001b[0m\u001b[1;33m\u001b[0m\u001b[1;33m\u001b[0m\u001b[0m\n\u001b[0;32m     14\u001b[0m \u001b[1;33m\u001b[0m\u001b[0m\n\u001b[1;32m---> 15\u001b[1;33m     \u001b[0mshow_span_box_markup\u001b[0m\u001b[1;33m(\u001b[0m\u001b[0mtext\u001b[0m\u001b[1;33m,\u001b[0m \u001b[0mspans\u001b[0m\u001b[1;33m,\u001b[0m \u001b[0mpalette\u001b[0m\u001b[1;33m=\u001b[0m\u001b[0mpalette\u001b[0m\u001b[1;33m(\u001b[0m\u001b[1;33m{\u001b[0m\u001b[1;34m'PER'\u001b[0m\u001b[1;33m:\u001b[0m\u001b[1;34m'blue'\u001b[0m\u001b[1;33m,\u001b[0m\u001b[1;34m'LOC'\u001b[0m\u001b[1;33m:\u001b[0m\u001b[1;34m'purple'\u001b[0m\u001b[1;33m,\u001b[0m \u001b[1;34m'ORG'\u001b[0m\u001b[1;33m:\u001b[0m\u001b[1;34m'#e0f2f1'\u001b[0m\u001b[1;33m}\u001b[0m\u001b[1;33m)\u001b[0m\u001b[1;33m)\u001b[0m\u001b[1;33m\u001b[0m\u001b[0m\n\u001b[0m\u001b[0;32m     16\u001b[0m \u001b[1;33m\u001b[0m\u001b[0m\n\u001b[0;32m     17\u001b[0m \u001b[1;33m\u001b[0m\u001b[0m\n",
      "\u001b[1;32mc:\\python37\\lib\\site-packages\\ipymarkup\\palette.py\u001b[0m in \u001b[0;36mpalette\u001b[1;34m(*args, **kwargs)\u001b[0m\n\u001b[0;32m    193\u001b[0m     \u001b[0mcache\u001b[0m\u001b[1;33m.\u001b[0m\u001b[0mupdate\u001b[0m\u001b[1;33m(\u001b[0m\u001b[0mkwargs\u001b[0m\u001b[1;33m)\u001b[0m\u001b[1;33m\u001b[0m\u001b[0m\n\u001b[0;32m    194\u001b[0m     \u001b[1;32mfor\u001b[0m \u001b[0mtype\u001b[0m\u001b[1;33m,\u001b[0m \u001b[0mcolor\u001b[0m \u001b[1;32min\u001b[0m \u001b[0mcache\u001b[0m\u001b[1;33m.\u001b[0m\u001b[0mitems\u001b[0m\u001b[1;33m(\u001b[0m\u001b[1;33m)\u001b[0m\u001b[1;33m:\u001b[0m\u001b[1;33m\u001b[0m\u001b[0m\n\u001b[1;32m--> 195\u001b[1;33m         \u001b[0mcolor\u001b[0m \u001b[1;33m=\u001b[0m \u001b[0mprepare_color\u001b[0m\u001b[1;33m(\u001b[0m\u001b[0mcolor\u001b[0m\u001b[1;33m)\u001b[0m\u001b[1;33m\u001b[0m\u001b[0m\n\u001b[0m\u001b[0;32m    196\u001b[0m         \u001b[0mpalette\u001b[0m\u001b[1;33m.\u001b[0m\u001b[0madd\u001b[0m\u001b[1;33m(\u001b[0m\u001b[0mcolor\u001b[0m\u001b[1;33m)\u001b[0m\u001b[1;33m\u001b[0m\u001b[0m\n\u001b[0;32m    197\u001b[0m         \u001b[0mpalette\u001b[0m\u001b[1;33m.\u001b[0m\u001b[0mset\u001b[0m\u001b[1;33m(\u001b[0m\u001b[0mtype\u001b[0m\u001b[1;33m,\u001b[0m \u001b[0mcolor\u001b[0m\u001b[1;33m)\u001b[0m\u001b[1;33m\u001b[0m\u001b[0m\n",
      "\u001b[1;32mc:\\python37\\lib\\site-packages\\ipymarkup\\palette.py\u001b[0m in \u001b[0;36mprepare_color\u001b[1;34m(value, colors)\u001b[0m\n\u001b[0;32m    177\u001b[0m             \u001b[1;32mif\u001b[0m \u001b[0mcolor\u001b[0m\u001b[1;33m.\u001b[0m\u001b[0mname\u001b[0m \u001b[1;33m==\u001b[0m \u001b[0mvalue\u001b[0m\u001b[1;33m:\u001b[0m\u001b[1;33m\u001b[0m\u001b[0m\n\u001b[0;32m    178\u001b[0m                 \u001b[1;32mreturn\u001b[0m \u001b[0mcolor\u001b[0m\u001b[1;33m\u001b[0m\u001b[0m\n\u001b[1;32m--> 179\u001b[1;33m         \u001b[1;32mraise\u001b[0m \u001b[0mKeyError\u001b[0m\u001b[1;33m(\u001b[0m\u001b[0mvalue\u001b[0m\u001b[1;33m)\u001b[0m\u001b[1;33m\u001b[0m\u001b[0m\n\u001b[0m\u001b[0;32m    180\u001b[0m \u001b[1;33m\u001b[0m\u001b[0m\n\u001b[0;32m    181\u001b[0m     \u001b[1;32mraise\u001b[0m \u001b[0mTypeError\u001b[0m\u001b[1;33m(\u001b[0m\u001b[0mvalue\u001b[0m\u001b[1;33m)\u001b[0m\u001b[1;33m\u001b[0m\u001b[0m\n",
      "\u001b[1;31mKeyError\u001b[0m: '#e0f2f1'"
     ]
    }
   ],
   "source": [
    "getMarkup(doc)\n",
    "# print(doc.spans[0])"
   ]
  },
  {
   "cell_type": "code",
   "execution_count": null,
   "id": "1e9409cc-b882-4a6e-ab55-6335017f1c26",
   "metadata": {},
   "outputs": [],
   "source": []
  }
 ],
 "metadata": {
  "kernelspec": {
   "display_name": "Python 3 (ipykernel)",
   "language": "python",
   "name": "python3"
  },
  "language_info": {
   "codemirror_mode": {
    "name": "ipython",
    "version": 3
   },
   "file_extension": ".py",
   "mimetype": "text/x-python",
   "name": "python",
   "nbconvert_exporter": "python",
   "pygments_lexer": "ipython3",
   "version": "3.7.0"
  }
 },
 "nbformat": 4,
 "nbformat_minor": 5
}
