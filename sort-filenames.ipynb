{
 "cells": [
  {
   "cell_type": "markdown",
   "id": "6d45725b",
   "metadata": {},
   "source": [
    "# Sort files sensibly\n",
    "\n",
    "By default:\n",
    "\n",
    "1. The order in which files are accessed from a disk is not predictable, which means that when the order matters we need to specify it.\n",
    "1. The default order supported by Python sorting may not be informationally correct. For example, files *file9.txt*, *file10.text*, *file11.txt* will sort with *file9.txt* last because the sort is alphabetical by default. This could be fixed by changing the filenames (e.g., *file09.txt* instead of *file9.txt*), but we may not always have the access rights needed to rename files.\n",
    "\n",
    "This function:\n",
    "\n",
    "1. Assumes that filenames have a text portion followed by an integer portion followed by a filename extension, e.g., *file9.txt* consists of *file* (text portion), then *9* (integer portion), then *.txt* (filename extension). The integer can be of any length and may or may not have leading (padding) zeros. There must be no other integers in the filename.\n",
    "1. Isolates the integer (e.g., *9*) and uses it to sort the filenames.\n",
    "1. Returns the filenames in sorted order.\n",
    "\n",
    "Given input of `['file10.txt', 'file9.txt', 'file11.txt']` the function will return `['file9.txt', 'file10.txt', 'file11.txt]`.\n",
    "\n",
    "The function is not guaranteed to return meaningful results if the filenames do not conform to the assumption above."
   ]
  },
  {
   "cell_type": "code",
   "execution_count": 1,
   "id": "58ce9862",
   "metadata": {},
   "outputs": [],
   "source": [
    "# Initialize\n",
    "import os, glob # manage file access\n",
    "import re # to isolate integer portion of filename\n",
    "import pprint # pretty print output\n",
    "pp = pprint.PrettyPrinter(indent=4)"
   ]
  },
  {
   "cell_type": "code",
   "execution_count": 2,
   "id": "0c815a3b",
   "metadata": {},
   "outputs": [],
   "source": [
    "def sort_filenames(filepath_pattern):\n",
    "    \"\"\"Sort filenames by integer component\n",
    "    \n",
    "    Parameter: filepath_pattern as string\n",
    "        (filepath glob pattern, with wildcard for integer portion)\n",
    "    \n",
    "    Returns: list of file paths as strings\n",
    "    \n",
    "    Notes:\n",
    "        Assumes filenames of shape \\D+\\d+\\.\\D+, that is, \n",
    "            non-digits, then digits, then dot, then non-digits\n",
    "        Assumes no digits anywhere else in the path\n",
    "    \"\"\"\n",
    "    pat = re.compile(r'\\D+(\\d+)') # regex to capture integer portion of filename\n",
    "    filepaths = glob.glob(filepath_pattern)\n",
    "    filepaths.sort(key=lambda x: int(pat.match(x).group(1))) # sort by integer portion\n",
    "    return (filepaths)"
   ]
  },
  {
   "cell_type": "code",
   "execution_count": 3,
   "id": "39b5ad21",
   "metadata": {},
   "outputs": [
    {
     "name": "stdout",
     "output_type": "stream",
     "text": [
      "Filepath glob\n",
      "---\n",
      "\"path='private/ch*.pkl'\"\n",
      "---\n",
      "Unsorted order\n",
      "---\n",
      "(\"glob.glob(path)=['private/ch1.pkl', 'private/ch2.pkl', 'private/ch3.pkl', \"\n",
      " \"'private/ch7.pkl', 'private/ch6.pkl', 'private/ch4.pkl', 'private/ch5.pkl', \"\n",
      " \"'private/ch20.pkl', 'private/ch21.pkl', 'private/ch23.pkl', \"\n",
      " \"'private/ch22.pkl', 'private/ch32.pkl', 'private/ch26.pkl', \"\n",
      " \"'private/ch27.pkl', 'private/ch33.pkl', 'private/ch19.pkl', \"\n",
      " \"'private/ch25.pkl', 'private/ch31.pkl', 'private/ch30.pkl', \"\n",
      " \"'private/ch24.pkl', 'private/ch18.pkl', 'private/ch15.pkl', \"\n",
      " \"'private/ch29.pkl', 'private/ch28.pkl', 'private/ch14.pkl', \"\n",
      " \"'private/ch16.pkl', 'private/ch17.pkl', 'private/ch13.pkl', \"\n",
      " \"'private/ch12.pkl', 'private/ch10.pkl', 'private/ch11.pkl', \"\n",
      " \"'private/ch8.pkl', 'private/ch9.pkl']\")\n",
      "---\n",
      "Sorted order\n",
      "(\"sort_filenames(path)=['private/ch1.pkl', 'private/ch2.pkl', \"\n",
      " \"'private/ch3.pkl', 'private/ch4.pkl', 'private/ch5.pkl', 'private/ch6.pkl', \"\n",
      " \"'private/ch7.pkl', 'private/ch8.pkl', 'private/ch9.pkl', 'private/ch10.pkl', \"\n",
      " \"'private/ch11.pkl', 'private/ch12.pkl', 'private/ch13.pkl', \"\n",
      " \"'private/ch14.pkl', 'private/ch15.pkl', 'private/ch16.pkl', \"\n",
      " \"'private/ch17.pkl', 'private/ch18.pkl', 'private/ch19.pkl', \"\n",
      " \"'private/ch20.pkl', 'private/ch21.pkl', 'private/ch22.pkl', \"\n",
      " \"'private/ch23.pkl', 'private/ch24.pkl', 'private/ch25.pkl', \"\n",
      " \"'private/ch26.pkl', 'private/ch27.pkl', 'private/ch28.pkl', \"\n",
      " \"'private/ch29.pkl', 'private/ch30.pkl', 'private/ch31.pkl', \"\n",
      " \"'private/ch32.pkl', 'private/ch33.pkl']\")\n"
     ]
    }
   ],
   "source": [
    "# Example to test sorting\n",
    "path = os.path.join('private', 'ch*.pkl') # form path from tuple of strings\n",
    "print(\"Filepath glob\\n---\")\n",
    "pp.pprint(f\"{path=}\") # show file glob path\n",
    "print(\"---\\nUnsorted order\\n---\")\n",
    "pp.pprint(f\"{glob.glob(path)=}\") # show unsorted order\n",
    "print(\"---\\nSorted order\")\n",
    "pp.pprint(f\"{sort_filenames(path)=}\") # show sorted order"
   ]
  }
 ],
 "metadata": {
  "kernelspec": {
   "display_name": "Python 3 (ipykernel)",
   "language": "python",
   "name": "python3"
  },
  "language_info": {
   "codemirror_mode": {
    "name": "ipython",
    "version": 3
   },
   "file_extension": ".py",
   "mimetype": "text/x-python",
   "name": "python",
   "nbconvert_exporter": "python",
   "pygments_lexer": "ipython3",
   "version": "3.9.7"
  }
 },
 "nbformat": 4,
 "nbformat_minor": 5
}
